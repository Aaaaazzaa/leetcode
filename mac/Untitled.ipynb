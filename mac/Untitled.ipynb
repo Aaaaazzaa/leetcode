{
 "cells": [
  {
   "cell_type": "code",
   "execution_count": 3,
   "metadata": {},
   "outputs": [],
   "source": [
    "import pandas\n",
    "import numpy as np\n",
    "import matplotlib.pyplot as plt\n",
    "from scipy.stats import beta\n",
    "%matplotlib inline\n",
    "df = pandas.read_csv('data1.csv', header=None)\n",
    "experiment = list(df.iloc[0])"
   ]
  },
  {
   "cell_type": "markdown",
   "metadata": {},
   "source": [
    "### 4.1\n",
    "$$\n",
    "\\begin{aligned} \\ell(\\theta) &=\\log \\theta \\sum_{i=1}^{n} x_{i}+\\log (1-\\theta) \\sum_{i=1}^{n}\\left(1-x_{i}\\right) \\\\ \\frac{\\partial \\ell(\\theta)}{\\partial \\theta} &=\\frac{\\sum_{i=1}^{n} x_{i}}{\\theta}-\\frac{\\sum_{i=1}^{n}\\left(1-x_{i}\\right)}{1-\\theta} {=} 0 \\\\ \\sum_{i=1}^{n} x_{i}-\\theta \\sum_{i=1}^{n} x_{i} &=\\theta \\sum_{i=1}^{n}\\left(1-x_{i}\\right) \\\\\n",
    "\\theta^{MLE}&=\\frac{1}{n} \\sum_{i=1}^{n} x_{i}\n",
    "\\end{aligned}\n",
    "$$"
   ]
  },
  {
   "cell_type": "code",
   "execution_count": 4,
   "metadata": {},
   "outputs": [
    {
     "name": "stdout",
     "output_type": "stream",
     "text": [
      "MLE estimator of theta =  0.61\n"
     ]
    },
    {
     "data": {
      "image/png": "[encoded data removed]",
      "text/plain": [
       "<Figure size 432x288 with 1 Axes>"
      ]
     },
     "metadata": {
      "needs_background": "light"
     },
     "output_type": "display_data"
    }
   ],
   "source": [
    "def computeMLE(toss):\n",
    "    return np.mean(toss)\n",
    "print(\"MLE estimator of theta = \", computeMLE(experiment))\n",
    "mles = []\n",
    "n = len(experiment)\n",
    "x = list(range(1, n+1))\n",
    "\n",
    "for i in range(1, n+1):\n",
    "    mles.append(computeMLE(experiment[:i]))\n",
    "# print(mles)\n",
    "plt.plot(x, mles)\n",
    "plt.xlabel('number of experiment included')\n",
    "plt.ylabel(r'$\\hat \\theta^{MLE}$')\n",
    "plt.show()"
   ]
  },
  {
   "cell_type": "markdown",
   "metadata": {},
   "source": [
    "The estimator don't seems to converge as more data are used. All experiments after trial ~80 take value of a Head. The fairness of the coin could be compromised in the experiment."
   ]
  },
  {
   "cell_type": "markdown",
   "metadata": {},
   "source": [
    "### 4.2\n",
    "$$\n",
    "\\begin{aligned} \n",
    "0 &= \\frac{\\partial}{\\partial \\theta} l \\\\ \n",
    "&= \\frac{\\partial}{\\partial \\theta} l^{MLE} + \\frac{\\partial}{\\partial \\theta} \\log \\operatorname{Beta}(\\theta \\mid \\beta_0, \\beta_1) \\\\\n",
    "&=\\frac{1}{\\theta} \\sum_{i=1}^{n} x_{i}-\\frac{1}{1-\\theta} \\sum_{i=1}^{n}\\left(1-x_{i}\\right)+\\frac{\\beta_0-1}{\\theta}-\\frac{\\beta_1-1}{1-\\theta} \\\\\n",
    "\\theta^{MAP} &= \\frac{\\sum_i x_i + \\beta_0 - 1}{n + \\beta_1 + \\beta_0 - 2}\n",
    " \\end{aligned}\n",
    "$$\n"
   ]
  },
  {
   "cell_type": "code",
   "execution_count": 5,
   "metadata": {},
   "outputs": [
    {
     "name": "stdout",
     "output_type": "stream",
     "text": [
      "expected value of theta for a coin from M_A =  0.5025\n",
      "expected value of theta for a coin from M_B =  0.5555555555555556\n"
     ]
    },
    {
     "data": {
      "image/png": "[encoded data removed]",
      "text/plain": [
       "<Figure size 432x288 with 1 Axes>"
      ]
     },
     "metadata": {
      "needs_background": "light"
     },
     "output_type": "display_data"
    },
    {
     "name": "stdout",
     "output_type": "stream",
     "text": [
      "Assume the coin from M_A, MAP estimator of theta =  0.5076263107721639\n",
      "Assume the coin from M_B, MAP estimator of theta =  0.5970149253731343\n"
     ]
    }
   ],
   "source": [
    "beta_0A, beta_1A = 1005, 995\n",
    "beta_0B, beta_1B = 20, 16\n",
    "mean_A, _, _, _ = beta.stats(beta_0A, beta_1A, moments='mvsk')\n",
    "mean_B, _, _, _ = beta.stats(beta_0B, beta_1B, moments='mvsk')\n",
    "print(\"expected value of theta for a coin from M_A = \", mean_A)\n",
    "print(\"expected value of theta for a coin from M_B = \", mean_B)\n",
    "expectation = lambda a, b: a / (a + b)\n",
    "# print(expectation(beta_0A, beta_1A), expectation(beta_0B, beta_1B))\n",
    "\n",
    "x = np.linspace(beta.ppf(0.01, beta_0B, beta_1B),\n",
    "                beta.ppf(0.99, beta_0B, beta_1B), 100)\n",
    "plt.plot(x, beta.pdf(x, beta_0A, beta_1A),\n",
    "       'r-', label='$M_A$ pdf')\n",
    "plt.plot(x, beta.pdf(x, beta_0B, beta_1B),\n",
    "       'b-', label='$M_B$ pdf')\n",
    "plt.legend()\n",
    "plt.show()\n",
    "\n",
    "\n",
    "def computeMAP(toss, beta_0, beta_1):\n",
    "    n = len(toss)\n",
    "    return (toss.count(1) + beta_0 - 1) / (n + beta_1 + beta_0 - 2)\n",
    "\n",
    "\n",
    "print(\"Assume the coin from M_A, MAP estimator of theta = \", computeMAP(experiment, beta_0A, beta_1A))\n",
    "print(\"Assume the coin from M_B, MAP estimator of theta = \", computeMAP(experiment, beta_0B, beta_1B))"
   ]
  },
  {
   "cell_type": "code",
   "execution_count": null,
   "metadata": {},
   "outputs": [],
   "source": []
  }
 ],
 "metadata": {
  "kernelspec": {
   "display_name": "Python 3",
   "language": "python",
   "name": "python3"
  },
  "language_info": {
   "codemirror_mode": {
    "name": "ipython",
    "version": 3
   },
   "file_extension": ".py",
   "mimetype": "text/x-python",
   "name": "python",
   "nbconvert_exporter": "python",
   "pygments_lexer": "ipython3",
   "version": "3.8.3"
  }
 },
 "nbformat": 4,
 "nbformat_minor": 4
}
